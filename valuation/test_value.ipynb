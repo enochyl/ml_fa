{
 "cells": [
  {
   "cell_type": "code",
   "execution_count": 1,
   "metadata": {
    "collapsed": false
   },
   "outputs": [],
   "source": [
    "import pandas as pd\n",
    "import numpy as np\n",
    "import sys\n",
    "sys.path.append(\"..\")\n",
    "from data.scripts.simplified_finance_stats.fin_stats import fin_stats\n",
    "from data.scripts.simplified_finance_stats.fin_stats_2 import fin_stats_2\n",
    "from data.scripts.simplified_finance_stats.stock_stats import stock_stats\n",
    "from value import valuation\n",
    "from input_params import get_inp_params\n",
    "from sklearn.linear_model import LinearRegression\n",
    "from input_params import get_inp_params\n",
    "\n",
    "import matplotlib.pyplot as plt\n",
    "%matplotlib inline\n"
   ]
  },
  {
   "cell_type": "code",
   "execution_count": 2,
   "metadata": {
    "collapsed": false
   },
   "outputs": [
    {
     "name": "stdout",
     "output_type": "stream",
     "text": [
      "Total Missing tickers: 181\n",
      "Total Missing tickers: 181\n",
      "Total Missing tickers: 181\n"
     ]
    }
   ],
   "source": [
    "# Set path for data\n",
    "base_path = '../data/'\n",
    "sheets_path = 'combined_simplified/combined_all_us.csv'\n",
    "other_path = 'combined_simplified/others_all_us.csv'\n",
    "mkt_path = 'combined_simplified/stock_stats_all_us.csv'\n",
    "\n",
    "# setup all data\n",
    "finances = fin_stats(base_path + sheets_path)\n",
    "fin_others = fin_stats_2(base_path + other_path)\n",
    "mkt_data = stock_stats(base_path + mkt_path)"
   ]
  },
  {
   "cell_type": "code",
   "execution_count": null,
   "metadata": {
    "collapsed": false
   },
   "outputs": [],
   "source": [
    "# Get the fundamental data\n",
    "tick = 'GOOGL'\n",
    "b = finances.get_sheet(tick,\"balance_sheet\")\n",
    "i = finances.get_sheet(tick,\"income_sheet\")\n",
    "c = finances.get_sheet(tick,\"cashflow_sheet\")\n",
    "o = fin_others.get_sheet(tick)\n",
    "mk = mkt_data.get_stock_data(tick)\n",
    "\n",
    "inp_params = get_inp_params(tick,finances,fin_others,mkt_data)"
   ]
  },
  {
   "cell_type": "code",
   "execution_count": null,
   "metadata": {
    "collapsed": false
   },
   "outputs": [],
   "source": [
    "c.loc['capx']"
   ]
  },
  {
   "cell_type": "code",
   "execution_count": null,
   "metadata": {
    "collapsed": false
   },
   "outputs": [],
   "source": [
    "curr = b.loc['act'] - b.loc['lct']\n",
    "curr = curr.values\n",
    "print curr\n"
   ]
  },
  {
   "cell_type": "code",
   "execution_count": 60,
   "metadata": {
    "collapsed": false
   },
   "outputs": [
    {
     "name": "stdout",
     "output_type": "stream",
     "text": [
      "The autoreload extension is already loaded. To reload it, use:\n",
      "  %reload_ext autoreload\n"
     ]
    }
   ],
   "source": [
    "%load_ext autoreload\n",
    "%aimport value\n",
    "%autoreload 2\n"
   ]
  },
  {
   "cell_type": "code",
   "execution_count": 61,
   "metadata": {
    "collapsed": false
   },
   "outputs": [
    {
     "name": "stdout",
     "output_type": "stream",
     "text": [
      "0.45292712931471163\n",
      "12518.0\n",
      "27638.0\n",
      "Rev\n",
      "[ 35986.03881997  46855.5970024   61008.29772997  79435.81194193\n",
      " 103429.34410007 128919.44883116 153523.67224047 174287.70651666\n",
      " 188169.69827663 192695.17952019]\n",
      "ebit\n",
      "[15568.79890282 19320.51668422 23918.2415384  29530.76175478\n",
      " 36351.64596758 42694.36367345 47727.153487   50645.46742082\n",
      " 50860.89823869 48173.79488005]\n",
      "[12557.26735317 15397.44240142 18831.5320287  22966.39283394\n",
      " 27921.42106929 32382.55956776 35740.73700731 37439.00030067\n",
      " 37109.05072543 34685.13231363]\n",
      "[1603.7550089  2088.16810217 2718.89783586 3540.13905017 4609.43560632\n",
      " 4896.94454247 4726.75647342 3989.01163417 2666.89150573  869.39739603]\n",
      "[0.04456603 0.04456603 0.04456603 0.04456603 0.04456603 0.03798453\n",
      " 0.03078845 0.02288751 0.0141728  0.00451178]\n",
      "[10953.51234428 13309.27429925 16112.63419284 19426.25378377\n",
      " 23311.98546297 27485.61502529 31013.98053389 33449.98866651\n",
      " 34442.15921969 33815.73491761]\n",
      "0.18381530595941845\n",
      "12518.0\n"
     ]
    }
   ],
   "source": [
    "v = value.valuation('FB',finances,fin_others,mkt_data)\n",
    "v1,p1 = v.val_eq()"
   ]
  },
  {
   "cell_type": "code",
   "execution_count": 48,
   "metadata": {
    "collapsed": false
   },
   "outputs": [
    {
     "data": {
      "text/plain": [
       "97.18689468437185"
      ]
     },
     "execution_count": 48,
     "metadata": {},
     "output_type": "execute_result"
    }
   ],
   "source": [
    "v1"
   ]
  },
  {
   "cell_type": "code",
   "execution_count": 49,
   "metadata": {
    "collapsed": false
   },
   "outputs": [
    {
     "data": {
      "text/plain": [
       "1.1838015853232178"
      ]
     },
     "execution_count": 49,
     "metadata": {},
     "output_type": "execute_result"
    }
   ],
   "source": [
    "p1"
   ]
  },
  {
   "cell_type": "code",
   "execution_count": null,
   "metadata": {
    "collapsed": true
   },
   "outputs": [],
   "source": []
  }
 ],
 "metadata": {
  "kernelspec": {
   "display_name": "Python 2",
   "language": "python",
   "name": "python2"
  },
  "language_info": {
   "codemirror_mode": {
    "name": "ipython",
    "version": 2
   },
   "file_extension": ".py",
   "mimetype": "text/x-python",
   "name": "python",
   "nbconvert_exporter": "python",
   "pygments_lexer": "ipython2",
   "version": "2.7.13"
  }
 },
 "nbformat": 4,
 "nbformat_minor": 0
}
