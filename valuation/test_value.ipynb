{
 "cells": [
  {
   "cell_type": "code",
   "execution_count": 6,
   "metadata": {
    "collapsed": false
   },
   "outputs": [],
   "source": [
    "import pandas as pd\n",
    "import numpy as np\n",
    "import sys\n",
    "sys.path.append(\"..\")\n",
    "from data.scripts.simplified_finance_stats.fin_stats import fin_stats\n",
    "from data.scripts.simplified_finance_stats.fin_stats_2 import fin_stats_2\n",
    "from data.scripts.simplified_finance_stats.stock_stats import stock_stats\n",
    "from value import valuation\n",
    "from input_params import get_inp_params\n",
    "from sklearn.linear_model import LinearRegression\n",
    "from input_params import get_inp_params\n",
    "\n",
    "import matplotlib.pyplot as plt\n",
    "%matplotlib inline\n"
   ]
  },
  {
   "cell_type": "code",
   "execution_count": 2,
   "metadata": {
    "collapsed": false
   },
   "outputs": [
    {
     "name": "stdout",
     "output_type": "stream",
     "text": [
      "Total Missing tickers: 181\n",
      "Total Missing tickers: 181\n",
      "Total Missing tickers: 181\n"
     ]
    }
   ],
   "source": [
    "# Set path for data\n",
    "base_path = '../data/'\n",
    "sheets_path = 'combined_simplified/combined_all_us.csv'\n",
    "other_path = 'combined_simplified/others_all_us.csv'\n",
    "mkt_path = 'combined_simplified/stock_stats_all_us.csv'\n",
    "\n",
    "# setup all data\n",
    "finances = fin_stats(base_path + sheets_path)\n",
    "fin_others = fin_stats_2(base_path + other_path)\n",
    "mkt_data = stock_stats(base_path + mkt_path)"
   ]
  },
  {
   "cell_type": "code",
   "execution_count": 7,
   "metadata": {
    "collapsed": false
   },
   "outputs": [],
   "source": [
    "# Get the fundamental data\n",
    "tick = 'FB'\n",
    "b = finances.get_sheet(tick,\"balance_sheet\")\n",
    "i = finances.get_sheet(tick,\"income_sheet\")\n",
    "c = finances.get_sheet(tick,\"cashflow_sheet\")\n",
    "o = fin_others.get_sheet(tick)\n",
    "mk = mkt_data.get_stock_data(tick)\n",
    "\n",
    "inp_params = get_inp_params(tick,finances,fin_others,mkt_data)"
   ]
  },
  {
   "cell_type": "code",
   "execution_count": 23,
   "metadata": {
    "collapsed": false
   },
   "outputs": [],
   "source": [
    "\n",
    "def revenue_projection(hist_period = 20, time_period=5, order=2,reduction_factor=0.75):\n",
    "    \"\"\"Returns the projected revenue for 2*time_period years\n",
    "        For 2nd order: Growth rate constant for the first half and\n",
    "        decreases linearly to rf rate\"\"\"\n",
    "\n",
    "    if order == 2:\n",
    "        hist_rev  = i.loc['revt'].values\n",
    "        hist_rev = hist_rev[-20::]\n",
    "        \n",
    "        hist_period = np.array(i.columns)[-20::]\n",
    "\n",
    "        past_N = float(hist_period.shape[0])\n",
    "\n",
    "        CAGR = ((hist_rev[-1]/hist_rev[0])**(1/past_N) - 1)*reduction_factor\n",
    "        \n",
    "        # First half\n",
    "        p = range(1,time_period+1)\n",
    "        factor = [(1+CAGR)**k for k in p]\n",
    "\n",
    "        # Second half\n",
    "        rf_rate = inp_params['rf_rate']\n",
    "        grw_rate = np.linspace(CAGR,rf_rate,time_period+1)[1::]\n",
    "        for r in grw_rate:\n",
    "            factor.append((1+r)*factor[-1])\n",
    "\n",
    "        rev = hist_rev[-1]*np.array(factor)\n",
    "        return rev"
   ]
  },
  {
   "cell_type": "code",
   "execution_count": 24,
   "metadata": {
    "collapsed": false
   },
   "outputs": [
    {
     "name": "stdout",
     "output_type": "stream",
     "text": [
      "0.30204930964496857\n",
      "[1.3020493096449686, 1.6953324047469394, 2.2074063872194967, 2.87415196258504, 3.7422875786985825, 4.664572285663201, 5.554803974255456, 6.306089677858758, 6.8083688500120605, 6.9721101208548495]\n"
     ]
    },
    {
     "data": {
      "text/plain": [
       "array([ 35986.03881997,  46855.5970024 ,  61008.29772997,  79435.81194193,\n",
       "       103429.34410007, 128919.44883116, 153523.67224047, 174287.70651666,\n",
       "       188169.69827663, 192695.17952019])"
      ]
     },
     "execution_count": 24,
     "metadata": {},
     "output_type": "execute_result"
    }
   ],
   "source": [
    "revenue_projection()"
   ]
  },
  {
   "cell_type": "code",
   "execution_count": null,
   "metadata": {
    "collapsed": true
   },
   "outputs": [],
   "source": []
  }
 ],
 "metadata": {
  "kernelspec": {
   "display_name": "Python 2",
   "language": "python",
   "name": "python2"
  },
  "language_info": {
   "codemirror_mode": {
    "name": "ipython",
    "version": 2
   },
   "file_extension": ".py",
   "mimetype": "text/x-python",
   "name": "python",
   "nbconvert_exporter": "python",
   "pygments_lexer": "ipython2",
   "version": "2.7.13"
  }
 },
 "nbformat": 4,
 "nbformat_minor": 0
}
